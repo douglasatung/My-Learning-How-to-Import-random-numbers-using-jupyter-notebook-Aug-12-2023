{
 "cells": [
  {
   "cell_type": "code",
   "execution_count": 7,
   "id": "8073c57d-4fd5-4104-b278-4faa340b3f99",
   "metadata": {},
   "outputs": [],
   "source": [
    "numbers = [12,13, 14,18,7,10,9]\n",
    "\n",
    "sum_of_numbers = sum(numbers)"
   ]
  },
  {
   "cell_type": "code",
   "execution_count": 8,
   "id": "6a7d233e-fe65-4169-a5aa-43b9ef0c6b53",
   "metadata": {},
   "outputs": [
    {
     "data": {
      "text/plain": [
       "83"
      ]
     },
     "execution_count": 8,
     "metadata": {},
     "output_type": "execute_result"
    }
   ],
   "source": [
    "sum_of_numbers"
   ]
  },
  {
   "cell_type": "code",
   "execution_count": 22,
   "id": "4d1adfc2-5ccf-446d-8da1-9a7230a34d84",
   "metadata": {},
   "outputs": [],
   "source": [
    "n =len(numbers)"
   ]
  },
  {
   "cell_type": "code",
   "execution_count": 23,
   "id": "716f36f4-5a28-4975-a6b6-d06ada6d9aa7",
   "metadata": {},
   "outputs": [],
   "source": [
    "def range(num_list):\n",
    "    return max(num_list) - min(num_list)\n"
   ]
  },
  {
   "cell_type": "code",
   "execution_count": 28,
   "id": "40b2c351-3ff5-4d3d-ac73-075c693e1f37",
   "metadata": {},
   "outputs": [
    {
     "data": {
      "text/plain": [
       "11"
      ]
     },
     "execution_count": 28,
     "metadata": {},
     "output_type": "execute_result"
    }
   ],
   "source": [
    "range(numbers)"
   ]
  },
  {
   "cell_type": "code",
   "execution_count": 24,
   "id": "bb5c05d0-647f-484b-b269-13dbe9143fde",
   "metadata": {},
   "outputs": [],
   "source": [
    "import random"
   ]
  },
  {
   "cell_type": "code",
   "execution_count": 20,
   "id": "5bdb5dbe-f5a2-4c74-abd2-6ea0bbad477f",
   "metadata": {},
   "outputs": [],
   "source": [
    "import random as rd"
   ]
  },
  {
   "cell_type": "code",
   "execution_count": 21,
   "id": "a78736d4-4814-4c17-aa1b-d1bba7b872e4",
   "metadata": {},
   "outputs": [
    {
     "data": {
      "text/plain": [
       "0.3082601452702445"
      ]
     },
     "execution_count": 21,
     "metadata": {},
     "output_type": "execute_result"
    }
   ],
   "source": [
    "rd.random()"
   ]
  },
  {
   "cell_type": "code",
   "execution_count": 25,
   "id": "53ce0b31-87ac-46c9-846d-7dab9dc4f977",
   "metadata": {},
   "outputs": [],
   "source": [
    "import random"
   ]
  },
  {
   "cell_type": "code",
   "execution_count": 31,
   "id": "0b74b94e-32a8-4227-b58d-2335fc18f136",
   "metadata": {},
   "outputs": [
    {
     "data": {
      "text/plain": [
       "0.034208150525582015"
      ]
     },
     "execution_count": 31,
     "metadata": {},
     "output_type": "execute_result"
    }
   ],
   "source": [
    "random.random()"
   ]
  },
  {
   "cell_type": "code",
   "execution_count": 32,
   "id": "9bc6773f-7772-4501-ae74-e12e1c3fa2fc",
   "metadata": {},
   "outputs": [],
   "source": [
    "import math"
   ]
  },
  {
   "cell_type": "code",
   "execution_count": 34,
   "id": "c951cb19-57ea-48d9-9f3c-95643e7b408a",
   "metadata": {},
   "outputs": [
    {
     "data": {
      "text/plain": [
       "-0.9524129804151563"
      ]
     },
     "execution_count": 34,
     "metadata": {},
     "output_type": "execute_result"
    }
   ],
   "source": [
    "math.cos(60)"
   ]
  },
  {
   "cell_type": "code",
   "execution_count": 35,
   "id": "6c922c46-9e2a-41dc-be2a-fea08fc994f2",
   "metadata": {},
   "outputs": [
    {
     "data": {
      "text/plain": [
       "30"
      ]
     },
     "execution_count": 35,
     "metadata": {},
     "output_type": "execute_result"
    }
   ],
   "source": [
    "rd.randint(1,100)\n"
   ]
  },
  {
   "cell_type": "code",
   "execution_count": 36,
   "id": "cdd524ad-a6f7-4e2c-9f2a-6beb55569451",
   "metadata": {},
   "outputs": [],
   "source": [
    "n = rd.randint(1,100)"
   ]
  },
  {
   "cell_type": "code",
   "execution_count": 37,
   "id": "58b369c6-e316-476b-bcaa-4df2d141f24a",
   "metadata": {},
   "outputs": [
    {
     "data": {
      "text/plain": [
       "' \\n1. Generate a random number between a specified minimum and maximum value\\n2. Set a number of attempt to 0.\\n3. Start a loop\\n    a. Prompt the player to enter a guess.\\n    b. Increment the number f attempts by 1.\\n    c. Compare the guess with the random number:\\n        - If the guess is correct, display a success message and end the loop.\\n        - If the guess is lower than the random number, display is \"too low\" message\\n        - If the guess is higher than the random number, display a \"too high\" message.\\n    d. If the maximum number of attempts has been reached, display a failure message and end the loop\\n4. End the game.\\n \\n'"
      ]
     },
     "execution_count": 37,
     "metadata": {},
     "output_type": "execute_result"
    }
   ],
   "source": [
    "''' \n",
    "1. Generate a random number between a specified minimum and maximum value\n",
    "2. Set a number of attempt to 0.\n",
    "3. Start a loop\n",
    "    a. Prompt the player to enter a guess.\n",
    "    b. Increment the number f attempts by 1.\n",
    "    c. Compare the guess with the random number:\n",
    "        - If the guess is correct, display a success message and end the loop.\n",
    "        - If the guess is lower than the random number, display is \"too low\" message\n",
    "        - If the guess is higher than the random number, display a \"too high\" message.\n",
    "    d. If the maximum number of attempts has been reached, display a failure message and end the loop\n",
    "4. End the game.\n",
    " \n",
    "'''"
   ]
  },
  {
   "cell_type": "code",
   "execution_count": null,
   "id": "dc862132-577b-4d9d-abc0-5ade3fc45ccc",
   "metadata": {},
   "outputs": [],
   "source": []
  },
  {
   "cell_type": "code",
   "execution_count": 41,
   "id": "2e6f41f9-0e2b-4b16-96e7-253cc4b6518f",
   "metadata": {},
   "outputs": [
    {
     "name": "stdout",
     "output_type": "stream",
     "text": [
      "[1.  5.  3.1 2.  4. ]\n"
     ]
    }
   ],
   "source": [
    "import numpy as np\n",
    "#Creating a NumPy as array from a list\n",
    "arr = np.array([1, 5, 3.1, 2, 4])\n",
    "print(arr)"
   ]
  },
  {
   "cell_type": "code",
   "execution_count": null,
   "id": "3634c18e-00e9-4655-884e-42bf7e44dc30",
   "metadata": {},
   "outputs": [],
   "source": []
  }
 ],
 "metadata": {
  "kernelspec": {
   "display_name": "Python 3 (ipykernel)",
   "language": "python",
   "name": "python3"
  },
  "language_info": {
   "codemirror_mode": {
    "name": "ipython",
    "version": 3
   },
   "file_extension": ".py",
   "mimetype": "text/x-python",
   "name": "python",
   "nbconvert_exporter": "python",
   "pygments_lexer": "ipython3",
   "version": "3.10.10"
  }
 },
 "nbformat": 4,
 "nbformat_minor": 5
}
